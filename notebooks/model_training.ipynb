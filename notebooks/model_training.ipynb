{
 "cells": [
  {
   "cell_type": "code",
   "execution_count": 6,
   "id": "7fd43484",
   "metadata": {},
   "outputs": [],
   "source": [
    "from pathlib import Path\n",
    "import pandas as pd\n",
    "import numpy as np\n",
    "import datetime, sys, sklearn\n",
    "\n",
    "ROOT_DIR = Path(__file__).resolve().parents[1] if \"__file__\" in locals() else Path.cwd().parents[0]\n",
    "DATA_DIR = ROOT_DIR / \"data\" / \"processed\"\n",
    "REPORT_DIR = ROOT_DIR / \"reports\" / \"modeling\"\n",
    "REPORT_DIR.mkdir(parents=True, exist_ok=True)"
   ]
  },
  {
   "cell_type": "code",
   "execution_count": 7,
   "id": "1f8b9e61",
   "metadata": {},
   "outputs": [
    {
     "name": "stdout",
     "output_type": "stream",
     "text": [
      "✅ Loaded datasets:\n",
      "Train: (4929, 29), Val: (1057, 29), Test: (1057, 29)\n"
     ]
    }
   ],
   "source": [
    "train = pd.read_csv(DATA_DIR / \"train.csv\")\n",
    "val = pd.read_csv(DATA_DIR / \"val.csv\")\n",
    "test = pd.read_csv(DATA_DIR / \"test.csv\")\n",
    "\n",
    "print(\"✅ Loaded datasets:\")\n",
    "print(f\"Train: {train.shape}, Val: {val.shape}, Test: {test.shape}\")"
   ]
  },
  {
   "cell_type": "code",
   "execution_count": 8,
   "id": "259b7eba",
   "metadata": {},
   "outputs": [
    {
     "name": "stdout",
     "output_type": "stream",
     "text": [
      "Columns identical across splits: True\n",
      "\n",
      "Missing values per split:\n",
      "Train: 0\n",
      "Val: 0\n",
      "Test: 0\n",
      "\n",
      "Target distribution:\n",
      "Train: {0: 0.735, 1: 0.265}\n",
      "Val: {0: 0.734, 1: 0.266}\n",
      "Test: {0: 0.735, 1: 0.265}\n"
     ]
    }
   ],
   "source": [
    "print(\"Columns identical across splits:\", \n",
    "      train.columns.equals(val.columns) and train.columns.equals(test.columns))\n",
    "\n",
    "print(\"\\nMissing values per split:\")\n",
    "print(\"Train:\", train.isnull().sum().sum())\n",
    "print(\"Val:\", val.isnull().sum().sum())\n",
    "print(\"Test:\", test.isnull().sum().sum())\n",
    "\n",
    "print(\"\\nTarget distribution:\")\n",
    "for name, df in zip([\"Train\", \"Val\", \"Test\"], [train, val, test]):\n",
    "    churn_counts = df[\"Churn\"].value_counts(normalize=True).round(3)\n",
    "    print(f\"{name}: {churn_counts.to_dict()}\")"
   ]
  },
  {
   "cell_type": "code",
   "execution_count": 9,
   "id": "0b184a4f",
   "metadata": {},
   "outputs": [
    {
     "data": {
      "image/png": "[encoded data removed]",
      "text/plain": [
       "<Figure size 1000x300 with 3 Axes>"
      ]
     },
     "metadata": {},
     "output_type": "display_data"
    }
   ],
   "source": [
    "import matplotlib.pyplot as plt\n",
    "\n",
    "fig, ax = plt.subplots(1, 3, figsize=(10, 3))\n",
    "for i, (name, df) in enumerate(zip([\"Train\", \"Val\", \"Test\"], [train, val, test])):\n",
    "    df[\"Churn\"].value_counts().plot(kind=\"bar\", ax=ax[i], color=[\"steelblue\", \"darkorange\"], title=name)\n",
    "    ax[i].set_xticklabels([\"No\", \"Yes\"], rotation=0)\n",
    "plt.tight_layout()\n",
    "plt.show()"
   ]
  },
  {
   "cell_type": "code",
   "execution_count": 10,
   "id": "18926e0b",
   "metadata": {},
   "outputs": [
    {
     "data": {
      "text/plain": [
       "980"
      ]
     },
     "execution_count": 10,
     "metadata": {},
     "output_type": "execute_result"
    }
   ],
   "source": [
    "now = datetime.datetime.now().strftime(\"%Y-%m-%d %H:%M:%S\")\n",
    "\n",
    "md = f\"\"\"# Model Input Overview\n",
    "\n",
    "**Datum/Zeit:** {now}  \n",
    "**random_state:** 42  \n",
    "\n",
    "---\n",
    "\n",
    "## Datasets\n",
    "\n",
    "| Split | Samples | Features | Churn % |\n",
    "|-------|----------|-----------|----------|\n",
    "| Train | {len(train):,} | {train.shape[1]} | {train['Churn'].mean()*100:.1f}% |\n",
    "| Val | {len(val):,} | {val.shape[1]} | {val['Churn'].mean()*100:.1f}% |\n",
    "| Test | {len(test):,} | {test.shape[1]} | {test['Churn'].mean()*100:.1f}% |\n",
    "\n",
    "---\n",
    "\n",
    "## Checks\n",
    "\n",
    "- Same columns across all splits: {train.columns.equals(val.columns) and train.columns.equals(test.columns)}\n",
    "- Missing values (train/val/test): {train.isnull().sum().sum()}/{val.isnull().sum().sum()}/{test.isnull().sum().sum()}\n",
    "- Balanced training set confirmed (SMOTE applied).\n",
    "\n",
    "---\n",
    "\n",
    "## Notes\n",
    "\n",
    "- Features are fully numeric, scaled (0–1), and clean.\n",
    "- Target variable: `Churn` (0 = No, 1 = Yes).\n",
    "- These datasets serve as input for all subsequent modeling steps (Random Forest, XGBoost, GridSearchCV).\n",
    "- All transformations follow reproducibility standards per **CRISP-ML(Q)** (Studer et al., 2021).\n",
    "\n",
    "---\n",
    "\n",
    "## References\n",
    "\n",
    "- Boozary et al. (2025): *Enhancing customer retention with machine learning* – Defines modeling baseline and metrics.  \n",
    "- Studer et al. (2021): *CRISP-ML(Q)* – Emphasizes reproducibility and data traceability.\n",
    "\"\"\"\n",
    "\n",
    "(Path(REPORT_DIR) / \"model_input_overview.md\").write_text(md, encoding=\"utf-8\")"
   ]
  }
 ],
 "metadata": {
  "kernelspec": {
   "display_name": "venv",
   "language": "python",
   "name": "python3"
  },
  "language_info": {
   "codemirror_mode": {
    "name": "ipython",
    "version": 3
   },
   "file_extension": ".py",
   "mimetype": "text/x-python",
   "name": "python",
   "nbconvert_exporter": "python",
   "pygments_lexer": "ipython3",
   "version": "3.13.5"
  }
 },
 "nbformat": 4,
 "nbformat_minor": 5
}
